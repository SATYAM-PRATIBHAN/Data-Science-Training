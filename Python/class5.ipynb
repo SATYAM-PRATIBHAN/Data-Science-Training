{
 "cells": [
  {
   "cell_type": "markdown",
   "metadata": {},
   "source": [
    "Numpy"
   ]
  },
  {
   "cell_type": "markdown",
   "metadata": {},
   "source": [
    "Numpy"
   ]
  },
  {
   "cell_type": "code",
   "execution_count": 3,
   "metadata": {},
   "outputs": [],
   "source": [
    "import numpy as np # Used to import numpy as np to use its functions"
   ]
  },
  {
   "cell_type": "code",
   "execution_count": 16,
   "metadata": {},
   "outputs": [
    {
     "name": "stdout",
     "output_type": "stream",
     "text": [
      "List :  [1, 2, 3, 4, 5, 6, 7, 8, 9, 10, 11, 12, 13, 14, 15, 16, 17, 18, 19, 20, 21, 22, 23, 24]\n",
      "Array : [ 1  2  3  4  5  6  7  8  9 10 11 12 13 14 15 16 17 18 19 20 21 22 23 24]\n"
     ]
    },
    {
     "data": {
      "text/plain": [
       "numpy.ndarray"
      ]
     },
     "execution_count": 16,
     "metadata": {},
     "output_type": "execute_result"
    }
   ],
   "source": [
    "nums = list(range(1, 25)) # Used to create a list\n",
    "print(\"List : \", nums)\n",
    "array = np.array(nums)\n",
    "print(f\"Array : {array}\")\n",
    "type(array)"
   ]
  },
  {
   "cell_type": "code",
   "execution_count": 12,
   "metadata": {},
   "outputs": [
    {
     "name": "stdout",
     "output_type": "stream",
     "text": [
      "[1 2 3 4 5]\n"
     ]
    }
   ],
   "source": [
    "arr = np.array([1,2,3,4,5]) # Used to create a array\n",
    "print(arr)"
   ]
  },
  {
   "cell_type": "code",
   "execution_count": 17,
   "metadata": {},
   "outputs": [
    {
     "name": "stdout",
     "output_type": "stream",
     "text": [
      "[ 1  2  3  4  5  6  7  8  9 10 11 12 13 14 15 16 17 18 19 20 21 22 23 24]\n"
     ]
    }
   ],
   "source": [
    "arr = np.arange(1, 25) # Used to create a array with the given range\n",
    "print(arr)"
   ]
  },
  {
   "cell_type": "code",
   "execution_count": 50,
   "metadata": {},
   "outputs": [
    {
     "name": "stdout",
     "output_type": "stream",
     "text": [
      "2\n",
      "3\n",
      "[[1 2 3]\n",
      " [4 5 6]\n",
      " [7 8 9]]\n"
     ]
    }
   ],
   "source": [
    "arr2 = np.array([[1,2,3], [4,5,6], [7,8,9]]) # Used to create a 2D array\n",
    "arr3 = np.array([[[1,2,3], [4,5,6], [7,8,9]]]) # Used to create 3D array\n",
    "print(arr2.ndim) # Used to find the dimension of the array\n",
    "print(arr3.ndim)\n",
    "print(arr2)"
   ]
  },
  {
   "cell_type": "code",
   "execution_count": 29,
   "metadata": {},
   "outputs": [
    {
     "name": "stdout",
     "output_type": "stream",
     "text": [
      "[[[ 1  2  3  4]\n",
      "  [ 5  6  7  8]\n",
      "  [17 18 19 20]]\n",
      "\n",
      " [[ 9 10 11 12]\n",
      "  [13 14 15 16]\n",
      "  [21 22 23 24]]]\n",
      "3\n"
     ]
    }
   ],
   "source": [
    "# Creating a 3d Array (2 blocks, 3 rows, 4 columns)\n",
    "arr = np.array([[[1,2,3,4], [5,6,7,8], [17,18,19,20]], [[9,10,11,12], [13,14,15,16], [21,22,23,24]]])\n",
    "print(arr)\n",
    "print(arr.ndim)"
   ]
  },
  {
   "cell_type": "code",
   "execution_count": 31,
   "metadata": {},
   "outputs": [
    {
     "name": "stdout",
     "output_type": "stream",
     "text": [
      "[[0. 0. 0.]\n",
      " [0. 0. 0.]]\n"
     ]
    }
   ],
   "source": [
    "arr4 = np.zeros((2,3)) # Used to create a 2D array with zeros\n",
    "print(arr4)"
   ]
  },
  {
   "cell_type": "code",
   "execution_count": 51,
   "metadata": {},
   "outputs": [
    {
     "name": "stdout",
     "output_type": "stream",
     "text": [
      "Dimension of arr6 :  3\n",
      "Dimension of arr5 :  1\n",
      "Dimension of arr7 :  2\n"
     ]
    }
   ],
   "source": [
    "arr5 = np.linspace(1, 10, 5) # Used to create a array with the given range\n",
    "arr6 = np.linspace(1,10,8).reshape(2,2,2) # Used to create a array with the given range in 3D array \n",
    "arr7 = np.linspace(1,10,4).reshape(2,2) # Used to create a array with the given range in 2D array\n",
    "print(\"Dimension of arr6 : \",arr6.ndim)\n",
    "print(\"Dimension of arr5 : \",arr5.ndim)\n",
    "print(\"Dimension of arr7 : \",arr7.ndim)"
   ]
  },
  {
   "cell_type": "code",
   "execution_count": 61,
   "metadata": {},
   "outputs": [
    {
     "name": "stdout",
     "output_type": "stream",
     "text": [
      "[[ 1  2  3  4  5  6]\n",
      " [ 7  8  9 10 11 12]\n",
      " [13 14 15 16 17 18]\n",
      " [19 20 21 22 23 24]\n",
      " [25 26 27 28 29 30]]\n",
      "(5, 6)\n",
      "30\n",
      "int64\n",
      "[[ 1  7 13 19 25]\n",
      " [ 2  8 14 20 26]\n",
      " [ 3  9 15 21 27]\n",
      " [ 4 10 16 22 28]\n",
      " [ 5 11 17 23 29]\n",
      " [ 6 12 18 24 30]]\n",
      "[ 1  2  3  4  5  6  7  8  9 10 11 12 13 14 15 16 17 18 19 20 21 22 23 24\n",
      " 25 26 27 28 29 30]\n",
      "30\n",
      "1\n",
      "465\n",
      "15.5\n",
      "8.65544144839919\n",
      "[[0 1 2 3 4 5]\n",
      " [0 1 2 3 4 5]\n",
      " [0 1 2 3 4 5]\n",
      " [0 1 2 3 4 5]\n",
      " [0 1 2 3 4 5]]\n"
     ]
    }
   ],
   "source": [
    "nums1 = np.arange(1,31).reshape(5,6) # Used to create a array with the given range and resape it in 5x6 matrix\n",
    "print(nums1)\n",
    "print(nums1.shape)  # Used to find the shape of the array\n",
    "print(nums1.size) # Used to find the size of the array\n",
    "print(nums1.dtype) # Used to find the data type of the array\n",
    "print(nums1.T) # Used to transpose the array\n",
    "print(nums1.ravel()) # Used to flatten the array\n",
    "print(nums1.max()) # Used to find the maximum value of the array\n",
    "print(nums1.min()) # Used to find the minimum value of the array\n",
    "print(nums1.sum()) # Used to find the sum of the array\n",
    "print(nums1.mean()) # Used to find the mean of the array\n",
    "print(nums1.std()) # Used to find the standard deviation of the array.\n",
    "print(nums1.argsort()) # Used to find the index of the array"
   ]
  },
  {
   "cell_type": "code",
   "execution_count": 94,
   "metadata": {},
   "outputs": [
    {
     "name": "stdout",
     "output_type": "stream",
     "text": [
      "[ 6 30  4 11 78 66 79 46 12 92] \n",
      "\n",
      "[[12 67 22 66]\n",
      " [20 11  3 61]\n",
      " [32 12 48 87]] \n",
      "\n",
      "[[[59 65 13]\n",
      "  [13 55 30]\n",
      "  [83 96 23]]\n",
      "\n",
      " [[ 2 32 60]\n",
      "  [85 93 54]\n",
      "  [67 67 24]]\n",
      "\n",
      " [[12 80 34]\n",
      "  [43 79 40]\n",
      "  [35 22  3]]] \n",
      "\n"
     ]
    }
   ],
   "source": [
    "arr = np.random.randint(1, 100, 10) # Used to create a random array with the given range\n",
    "print(arr, \"\\n\")\n",
    "arr1 = np.random.randint(1, 100, (3,4)) # Used to create a random 2D array with the given range\n",
    "print(arr1, \"\\n\")\n",
    "arr2 = np.random.randint(1, 100, (3,3,3)) # Used to create a random 3D array with the given range\n",
    "print(arr2, \"\\n\")"
   ]
  },
  {
   "cell_type": "code",
   "execution_count": 105,
   "metadata": {},
   "outputs": [
    {
     "name": "stdout",
     "output_type": "stream",
     "text": [
      "[[0.23841951 0.43469152 0.17905388 0.75306778 0.26198665]\n",
      " [0.90571847 0.50949135 0.35291755 0.97929257 0.12212215]\n",
      " [0.31153166 0.90309373 0.03639197 0.00308272 0.26026704]\n",
      " [0.89688618 0.56104909 0.06082778 0.68016865 0.67918693]\n",
      " [0.41190243 0.27318984 0.07174361 0.34202639 0.54568532]\n",
      " [0.16168816 0.38271409 0.30369469 0.9830108  0.28098407]\n",
      " [0.38886901 0.90455074 0.65909259 0.45059305 0.77524811]\n",
      " [0.44673278 0.486051   0.55825279 0.85538913 0.32964661]\n",
      " [0.01299633 0.51822677 0.12408214 0.79407249 0.77252203]\n",
      " [0.6560659  0.4971774  0.5384133  0.53678944 0.65958089]]\n"
     ]
    }
   ],
   "source": [
    "arr = np.random.random((10,5))\n",
    "print(arr)"
   ]
  }
 ],
 "metadata": {
  "kernelspec": {
   "display_name": "Python 3",
   "language": "python",
   "name": "python3"
  },
  "language_info": {
   "codemirror_mode": {
    "name": "ipython",
    "version": 3
   },
   "file_extension": ".py",
   "mimetype": "text/x-python",
   "name": "python",
   "nbconvert_exporter": "python",
   "pygments_lexer": "ipython3",
   "version": "3.13.2"
  }
 },
 "nbformat": 4,
 "nbformat_minor": 2
}
